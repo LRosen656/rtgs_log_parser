{
 "cells": [
  {
   "cell_type": "code",
   "execution_count": 1,
   "metadata": {},
   "outputs": [],
   "source": [
    "import os\n",
    "from datetime import datetime\n",
    "import pandas as pd\n",
    "import matplotlib.pyplot as plt\n",
    "import seaborn as sb"
   ]
  },
  {
   "cell_type": "code",
   "execution_count": 2,
   "metadata": {},
   "outputs": [
    {
     "name": "stderr",
     "output_type": "stream",
     "text": [
      "D:\\Users\\Owner\\Anaconda3\\lib\\site-packages\\IPython\\core\\interactiveshell.py:3058: DtypeWarning: Columns (4,5,13,15,17,22,23,24) have mixed types. Specify dtype option on import or set low_memory=False.\n",
      "  interactivity=interactivity, compiler=compiler, result=result)\n",
      "D:\\Users\\Owner\\Anaconda3\\lib\\site-packages\\IPython\\core\\interactiveshell.py:3058: DtypeWarning: Columns (8,9,13,14,15) have mixed types. Specify dtype option on import or set low_memory=False.\n",
      "  interactivity=interactivity, compiler=compiler, result=result)\n",
      "D:\\Users\\Owner\\Anaconda3\\lib\\site-packages\\IPython\\core\\interactiveshell.py:3058: DtypeWarning: Columns (4,5,19,20,21,22,23,24) have mixed types. Specify dtype option on import or set low_memory=False.\n",
      "  interactivity=interactivity, compiler=compiler, result=result)\n"
     ]
    }
   ],
   "source": [
    "test0 = pd.read_csv(\"Merged_Data_8_9_2022/concatCSV_0.csv\")\n",
    "test1 = pd.read_csv(\"Merged_Data_8_9_2022/concatCSV_1.csv\")\n",
    "test2 = pd.read_csv(\"Merged_Data_8_9_2022/concatCSV_2.csv\")\n",
    "test3 = pd.read_csv(\"Merged_Data_8_9_2022/concatCSV_3.csv\")\n",
    "test4 = pd.read_csv(\"Merged_Data_8_9_2022/concatCSV_4.csv\")"
   ]
  },
  {
   "cell_type": "code",
   "execution_count": 45,
   "metadata": {},
   "outputs": [
    {
     "name": "stdout",
     "output_type": "stream",
     "text": [
      "Node: e00fce685b02f35fe13a0a2d Maximum date is reasonable...\n",
      "Node: e00fce6856706b033b691f8b Maximum date is reasonable...\n",
      "Node: e00fce682c26b88b84ab26f2 Maximum date is reasonable...\n",
      "Node: e00fce6891afbb6bddd89915 Maximum date is reasonable...\n",
      "Node: e00fce68fb8a948ec07bb826 Maximum date is reasonable...\n",
      "Node: e00fce6838cebdf42fc24391 Maximum date is reasonable...\n"
     ]
    }
   ],
   "source": [
    "node_list = test0[\"NODE_ID\"].unique()\n",
    "\n",
    "for node in node_list: \n",
    "    Nodes = test0[(test0[\"NODE_ID\"] == node)]\n",
    "    if Nodes[\"Col_0\"].max() > datetime.timestamp(datetime.today()):\n",
    "        print(\"Node:\", node, \"Maximum date is out of range!\" )\n",
    "    else:\n",
    "        print(\"Node:\", node, \"Maximum date is reasonable...\")"
   ]
  },
  {
   "cell_type": "code",
   "execution_count": 46,
   "metadata": {},
   "outputs": [
    {
     "name": "stdout",
     "output_type": "stream",
     "text": [
      "Node: e00fce68b6dc19eefd628b4e Maximum date is reasonable...\n",
      "Node: e00fce68af529fe2d2d7c809 Maximum date is reasonable...\n",
      "Node: e00fce68f5490112d61bdccb Maximum date is reasonable...\n",
      "Node: e00fce68c014249653ebc049 Maximum date is reasonable...\n",
      "Node: e00fce6829163099f836ae78 Maximum date is out of range!\n",
      "Node: e00fce6813794773754ac5b9 Maximum date is reasonable...\n",
      "Node: e00fce688c30491f7bf87fb2 Maximum date is out of range!\n",
      "Node: e00fce682699a15d165801b1 Maximum date is reasonable...\n",
      "Node: e00fce686565dea3e22b623c Maximum date is reasonable...\n",
      "Node: e00fce6848a6a48956efa89d Maximum date is reasonable...\n",
      "Node: e00fce68428e95de642bb0d9 Maximum date is reasonable...\n",
      "Node: e00fce68ccb7400e1fb8aa98 Maximum date is reasonable...\n",
      "Node: e00fce682d4d9ca0f9a3b12d Maximum date is reasonable...\n",
      "Node: e00fce682a79a64999b7b409 Maximum date is reasonable...\n",
      "Node: e00fce68e485873e6b6e983b Maximum date is reasonable...\n",
      "Node: e00fce68816c2bc59976cdf2 Maximum date is reasonable...\n",
      "Node: e00fce68206506b1159c8936 Maximum date is reasonable...\n",
      "Node: e00fce68e5bd8b129dc5e774 Maximum date is reasonable...\n",
      "Node: e00fce68d387c98c80fc79bc Maximum date is reasonable...\n",
      "Node: e00fce6844eb3e18a15dc07f Maximum date is reasonable...\n",
      "Node: e00fce683d1ce7e541f9698f Maximum date is reasonable...\n",
      "Node: e00fce684b4112eb5390b0a0 Maximum date is reasonable...\n",
      "Node: e00fce6867d3a0cda48e32a2 Maximum date is reasonable...\n",
      "Node: e00fce6857f0346b44cd699d Maximum date is out of range!\n",
      "Node: e00fce681171349b5773ef72 Maximum date is reasonable...\n",
      "Node: e00fce68a0322349e64ec178 Maximum date is out of range!\n"
     ]
    }
   ],
   "source": [
    "node_list = test1[\"NODE_ID\"].unique()\n",
    "for node in node_list: \n",
    "    Nodes = test1[(test1[\"NODE_ID\"] == node)]\n",
    "    if Nodes[\"Time.0.TIME\"].max() > datetime.timestamp(datetime.today()):\n",
    "        print(\"Node:\", node, \"Maximum date is out of range!\" )\n",
    "    else:\n",
    "        print(\"Node:\", node, \"Maximum date is reasonable...\")\n",
    "    "
   ]
  },
  {
   "cell_type": "code",
   "execution_count": 44,
   "metadata": {},
   "outputs": [
    {
     "name": "stdout",
     "output_type": "stream",
     "text": [
      "Node: e00fce6829163099f836ae78 Maximum date is reasonable...\n",
      "Node: e00fce68c014249653ebc049 Maximum date is reasonable...\n",
      "Node: e00fce68816c2bc59976cdf2 Maximum date is reasonable...\n",
      "Node: e00fce682a79a64999b7b409 Maximum date is reasonable...\n",
      "Node: e00fce6844eb3e18a15dc07f Maximum date is out of range!\n",
      "Node: e00fce68206506b1159c8936 Maximum date is reasonable...\n",
      "Node: e00fce682699a15d165801b1 Maximum date is reasonable...\n",
      "Node: e00fce68ccb7400e1fb8aa98 Maximum date is reasonable...\n",
      "Node: e00fce68b6dc19eefd628b4e Maximum date is reasonable...\n",
      "Node: e00fce68428e95de642bb0d9 Maximum date is reasonable...\n"
     ]
    }
   ],
   "source": [
    "node_list = test2[\"NODE_ID\"].unique()\n",
    "\n",
    "for node in node_list: \n",
    "    Nodes = test2[(test2[\"NODE_ID\"] == node)]\n",
    "    if Nodes[\"Col_0\"].max() > datetime.timestamp(datetime.today()):\n",
    "        print(\"Node:\", node, \"Maximum date is out of range!\" )\n",
    "    else:\n",
    "        print(\"Node:\", node, \"Maximum date is reasonable...\")"
   ]
  },
  {
   "cell_type": "code",
   "execution_count": 49,
   "metadata": {},
   "outputs": [
    {
     "name": "stdout",
     "output_type": "stream",
     "text": [
      "Node: e00fce687038a71d446ef776 Maximum date is reasonable...\n",
      "Node: e00fce688c30491f7bf87fb2 Maximum date is reasonable...\n",
      "Node: e00fce682699a15d165801b1 Maximum date is reasonable...\n",
      "Node: e00fce681171349b5773ef72 Maximum date is reasonable...\n",
      "Node: e00fce68a0322349e64ec178 Maximum date is reasonable...\n"
     ]
    }
   ],
   "source": [
    "node_list = test3[\"NODE_ID\"].unique()\n",
    "for node in node_list: \n",
    "    Nodes = test3[(test3[\"NODE_ID\"] == node)]\n",
    "    if Nodes[\"ParticleTime.0.TIME\"].max() > datetime.timestamp(datetime.today()):\n",
    "        print(\"Node:\", node, \"Maximum date is out of range!\" )\n",
    "    else:\n",
    "        print(\"Node:\", node, \"Maximum date is reasonable...\")"
   ]
  },
  {
   "cell_type": "code",
   "execution_count": 51,
   "metadata": {},
   "outputs": [
    {
     "name": "stdout",
     "output_type": "stream",
     "text": [
      "Node: e00fce6838cebdf42fc24391 Maximum date is out of range!\n",
      "Node: e00fce6891afbb6bddd89915 Maximum date is out of range!\n",
      "Node: e00fce6856706b033b691f8b Maximum date is out of range!\n",
      "Node: e00fce682c26b88b84ab26f2 Maximum date is reasonable...\n",
      "Node: e00fce68fb8a948ec07bb826 Maximum date is reasonable...\n"
     ]
    }
   ],
   "source": [
    "node_list = test4[\"NODE_ID\"].unique()\n",
    "for node in node_list: \n",
    "    Nodes = test4[(test4[\"NODE_ID\"] == node)]\n",
    "    if Nodes[\"Time.0.TIME\"].max() > datetime.timestamp(datetime.today()):\n",
    "        print(\"Node:\", node, \"Maximum date is out of range!\" )\n",
    "    else:\n",
    "        print(\"Node:\", node, \"Maximum date is reasonable...\")"
   ]
  }
 ],
 "metadata": {
  "kernelspec": {
   "display_name": "Python 3",
   "language": "python",
   "name": "python3"
  },
  "language_info": {
   "codemirror_mode": {
    "name": "ipython",
    "version": 3
   },
   "file_extension": ".py",
   "mimetype": "text/x-python",
   "name": "python",
   "nbconvert_exporter": "python",
   "pygments_lexer": "ipython3",
   "version": "3.7.4"
  }
 },
 "nbformat": 4,
 "nbformat_minor": 2
}
